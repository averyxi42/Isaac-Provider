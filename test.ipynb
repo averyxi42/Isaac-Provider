{
 "cells": [
  {
   "cell_type": "code",
   "execution_count": null,
   "id": "ed5b8020",
   "metadata": {},
   "outputs": [
    {
     "ename": "ValueError",
     "evalue": "operands could not be broadcast together with shapes (3,2) (0,2) ",
     "output_type": "error",
     "traceback": [
      "\u001b[0;31m---------------------------------------------------------------------------\u001b[0m",
      "\u001b[0;31mValueError\u001b[0m                                Traceback (most recent call last)",
      "Cell \u001b[0;32mIn[4], line 26\u001b[0m\n\u001b[1;32m     24\u001b[0m \u001b[38;5;66;03m# Calculate heading for each segment start point\u001b[39;00m\n\u001b[1;32m     25\u001b[0m segment_headings \u001b[38;5;241m=\u001b[39m np\u001b[38;5;241m.\u001b[39marctan2(dy, dx)\n\u001b[0;32m---> 26\u001b[0m points[:, \u001b[38;5;241m0\u001b[39m], points[:, \u001b[38;5;241m1\u001b[39m],segment_headings,np\u001b[38;5;241m.\u001b[39mlinalg\u001b[38;5;241m.\u001b[39mnorm(\u001b[43mpoints\u001b[49m\u001b[38;5;241;43m-\u001b[39;49m\u001b[43mpoints\u001b[49m\u001b[43m[\u001b[49m\u001b[43m:\u001b[49m\u001b[38;5;241;43m0\u001b[39;49m\u001b[43m]\u001b[49m,axis\u001b[38;5;241m=\u001b[39m\u001b[38;5;241m1\u001b[39m)\n",
      "\u001b[0;31mValueError\u001b[0m: operands could not be broadcast together with shapes (3,2) (0,2) "
     ]
    }
   ],
   "source": [
    "import numpy as np\n",
    "\n",
    "    # The 'curve' is just the original points connected by lines.\n",
    "    # We return the points' coordinates directly.\n",
    "points = np.ones((3,2))\n",
    "\n",
    "x = points[:, 0]\n",
    "y = points[:, 1]\n",
    "\n",
    "# Calculate headings for the N-1 segments between points\n",
    "dx = np.diff(x)\n",
    "dy = np.diff(y)\n",
    "segment_headings = np.arctan2(dy, dx)\n",
    "\n",
    "# Create an array of the correct size (N) to store the heading at each point\n",
    "headings = np.zeros(3)\n",
    "\n",
    "# The heading at each point is the direction of the segment leaving it\n",
    "headings[:-1] = segment_headings\n",
    "\n",
    "# For the last point, there's no leaving segment.\n",
    "# A reasonable convention is to use the heading of the segment arriving at it.\n",
    "headings[-1] = segment_headings[-1]\n",
    "# Calculate heading for each segment start point\n",
    "segment_headings = np.arctan2(dy, dx)\n",
    "points[:, 0], points[:, 1],segment_headings,np.linalg.norm(points-points[:1],axis=1)"
   ]
  }
 ],
 "metadata": {
  "kernelspec": {
   "display_name": "env_isaaclab",
   "language": "python",
   "name": "python3"
  },
  "language_info": {
   "codemirror_mode": {
    "name": "ipython",
    "version": 3
   },
   "file_extension": ".py",
   "mimetype": "text/x-python",
   "name": "python",
   "nbconvert_exporter": "python",
   "pygments_lexer": "ipython3",
   "version": "3.10.16"
  }
 },
 "nbformat": 4,
 "nbformat_minor": 5
}
